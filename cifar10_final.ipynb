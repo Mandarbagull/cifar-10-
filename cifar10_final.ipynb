{
  "nbformat": 4,
  "nbformat_minor": 0,
  "metadata": {
    "colab": {
      "provenance": []
    },
    "kernelspec": {
      "name": "python3",
      "display_name": "Python 3"
    },
    "language_info": {
      "name": "python"
    }
  },
  "cells": [
    {
      "cell_type": "code",
      "execution_count": null,
      "metadata": {
        "id": "3Ww1n_9wCfjQ"
      },
      "outputs": [],
      "source": [
        "import numpy as np\n",
        "import pandas as pd\n",
        "import warnings\n",
        "warnings.filterwarnings('ignore')\n",
        "import matplotlib.pyplot as plt\n",
        "%matplotlib inline\n",
        "import seaborn as sns\n",
        "\n",
        "import tensorflow as tf\n",
        "from tensorflow import keras\n",
        "from tensorflow.keras import Sequential\n",
        "from tensorflow.keras.layers import Dense, Flatten\n",
        "\n",
        "from tensorflow.keras import datasets, layers, models\n"
      ]
    },
    {
      "cell_type": "code",
      "source": [
        "(X_train, y_train), (X_test,y_test) = datasets.cifar10.load_data()\n",
        "X_train.shape"
      ],
      "metadata": {
        "colab": {
          "base_uri": "https://localhost:8080/"
        },
        "id": "XvHM9bdTChmz",
        "outputId": "2094b683-8298-403d-d8cf-d45177d78dad"
      },
      "execution_count": null,
      "outputs": [
        {
          "output_type": "execute_result",
          "data": {
            "text/plain": [
              "(50000, 32, 32, 3)"
            ]
          },
          "metadata": {},
          "execution_count": 16
        }
      ]
    },
    {
      "cell_type": "code",
      "source": [
        "X_test.shape"
      ],
      "metadata": {
        "colab": {
          "base_uri": "https://localhost:8080/"
        },
        "id": "ve3URhY8ChpZ",
        "outputId": "13284e1a-002c-4d8f-b67d-596f94b89d51"
      },
      "execution_count": null,
      "outputs": [
        {
          "output_type": "execute_result",
          "data": {
            "text/plain": [
              "(10000, 32, 32, 3)"
            ]
          },
          "metadata": {},
          "execution_count": 17
        }
      ]
    },
    {
      "cell_type": "code",
      "source": [
        "y_train.shape"
      ],
      "metadata": {
        "colab": {
          "base_uri": "https://localhost:8080/"
        },
        "id": "7-jT4qbCChrv",
        "outputId": "b2969c7a-7789-4f79-b722-51cfa7b4dbb3"
      },
      "execution_count": null,
      "outputs": [
        {
          "output_type": "execute_result",
          "data": {
            "text/plain": [
              "(50000, 1)"
            ]
          },
          "metadata": {},
          "execution_count": 18
        }
      ]
    },
    {
      "cell_type": "code",
      "source": [
        "\n",
        "y_train[:5]"
      ],
      "metadata": {
        "colab": {
          "base_uri": "https://localhost:8080/"
        },
        "id": "NPqYnqyxCht9",
        "outputId": "8d6c4eea-a2e9-4709-c305-2f9262a38609"
      },
      "execution_count": null,
      "outputs": [
        {
          "output_type": "execute_result",
          "data": {
            "text/plain": [
              "array([[6],\n",
              "       [9],\n",
              "       [9],\n",
              "       [4],\n",
              "       [1]], dtype=uint8)"
            ]
          },
          "metadata": {},
          "execution_count": 19
        }
      ]
    },
    {
      "cell_type": "code",
      "source": [
        "# y_train is a 2D array, for our classification having 1D array is good enough. so we will convert this to now 1D array\n",
        "y_train = y_train.reshape(-1,)\n",
        "y_train[:5]"
      ],
      "metadata": {
        "colab": {
          "base_uri": "https://localhost:8080/"
        },
        "id": "Kzdl6BhqChwb",
        "outputId": "07474bbe-f630-45b9-a6ee-781bcd8aaffd"
      },
      "execution_count": null,
      "outputs": [
        {
          "output_type": "execute_result",
          "data": {
            "text/plain": [
              "array([6, 9, 9, 4, 1], dtype=uint8)"
            ]
          },
          "metadata": {},
          "execution_count": 20
        }
      ]
    },
    {
      "cell_type": "code",
      "source": [
        "y_test = y_test.reshape(-1,)"
      ],
      "metadata": {
        "id": "nzj0080aChyw"
      },
      "execution_count": null,
      "outputs": []
    },
    {
      "cell_type": "code",
      "source": [
        "classes = [\"airplane\",\"automobile\",\"bird\",\"cat\",\"deer\",\"dog\",\"frog\",\"horse\",\"ship\",\"truck\"]"
      ],
      "metadata": {
        "id": "gQJ-THymOFAp"
      },
      "execution_count": null,
      "outputs": []
    },
    {
      "cell_type": "code",
      "source": [
        "\n",
        "def plot_sample(X, y, index):\n",
        "    plt.figure(figsize = (15,2))\n",
        "    plt.imshow(X[index])\n",
        "    plt.xlabel(classes[y[index]])"
      ],
      "metadata": {
        "id": "eg2aNkklOFoo"
      },
      "execution_count": null,
      "outputs": []
    },
    {
      "cell_type": "code",
      "source": [
        "\n",
        "plot_sample(X_train, y_train, 0)"
      ],
      "metadata": {
        "colab": {
          "base_uri": "https://localhost:8080/",
          "height": 173
        },
        "id": "XgFrahDTOHM_",
        "outputId": "d36dc197-f576-43a9-bb4f-14e0ce7f0371"
      },
      "execution_count": null,
      "outputs": [
        {
          "output_type": "display_data",
          "data": {
            "text/plain": [
              "<Figure size 1080x144 with 1 Axes>"
            ],
            "image/png": "[encoded data removed]"
          },
          "metadata": {
            "needs_background": "light"
          }
        }
      ]
    },
    {
      "cell_type": "code",
      "source": [
        "plot_sample(X_train, y_train, 1)"
      ],
      "metadata": {
        "colab": {
          "base_uri": "https://localhost:8080/",
          "height": 173
        },
        "id": "ZvymYhVrOITv",
        "outputId": "5c40859a-f558-4378-9051-2f9c062120d1"
      },
      "execution_count": null,
      "outputs": [
        {
          "output_type": "display_data",
          "data": {
            "text/plain": [
              "<Figure size 1080x144 with 1 Axes>"
            ],
            "image/png": "[encoded data removed]"
          },
          "metadata": {
            "needs_background": "light"
          }
        }
      ]
    },
    {
      "cell_type": "code",
      "source": [
        "# Normalize the images to a number from 0 to 1. Image has 3 channels (R,G,B) and each value in the channel can range from 0 to 255. Hence to normalize in 0-->1 range, we need to divide it by 255\n",
        "\n",
        "X_train = X_train / 255.0\n",
        "X_test = X_test / 255.0"
      ],
      "metadata": {
        "id": "QWSoM6QnOiBh"
      },
      "execution_count": null,
      "outputs": []
    },
    {
      "cell_type": "code",
      "source": [
        "# model building\n",
        "\n",
        "model = Sequential()\n",
        "model.add(Flatten(input_shape = (32,32, 3)))\n",
        "model.add(Dense(128, activation = 'relu'))\n",
        "model.add(Dense(128, activation = 'relu'))\n",
        "\n",
        "# add output layer\n",
        "model.add(Dense(10, activation = 'softmax'))\n",
        "\n",
        "model.compile(loss = 'sparse_categorical_crossentropy', optimizer = 'adam', metrics = ['accuracy'])\n",
        "\n",
        "history = model.fit(X_train, y_train, epochs = 100, validation_split = 0.2)"
      ],
      "metadata": {
        "colab": {
          "base_uri": "https://localhost:8080/"
        },
        "id": "tb5WnrvTPCTw",
        "outputId": "2f01c460-e1bf-4a57-f830-6aa0d2134c59"
      },
      "execution_count": 35,
      "outputs": [
        {
          "output_type": "stream",
          "name": "stdout",
          "text": [
            "Epoch 1/100\n",
            "1250/1250 [==============================] - 18s 13ms/step - loss: 1.8943 - accuracy: 0.3106 - val_loss: 1.8140 - val_accuracy: 0.3340\n",
            "Epoch 2/100\n",
            "1250/1250 [==============================] - 14s 11ms/step - loss: 1.7194 - accuracy: 0.3821 - val_loss: 1.7005 - val_accuracy: 0.3916\n",
            "Epoch 3/100\n",
            "1250/1250 [==============================] - 13s 11ms/step - loss: 1.6366 - accuracy: 0.4132 - val_loss: 1.6131 - val_accuracy: 0.4254\n",
            "Epoch 4/100\n",
            "1250/1250 [==============================] - 13s 11ms/step - loss: 1.5937 - accuracy: 0.4283 - val_loss: 1.6194 - val_accuracy: 0.4219\n",
            "Epoch 5/100\n",
            "1250/1250 [==============================] - 13s 11ms/step - loss: 1.5564 - accuracy: 0.4423 - val_loss: 1.5845 - val_accuracy: 0.4388\n",
            "Epoch 6/100\n",
            "1250/1250 [==============================] - 12s 10ms/step - loss: 1.5303 - accuracy: 0.4520 - val_loss: 1.5876 - val_accuracy: 0.4407\n",
            "Epoch 7/100\n",
            "1250/1250 [==============================] - 13s 10ms/step - loss: 1.5118 - accuracy: 0.4588 - val_loss: 1.5951 - val_accuracy: 0.4334\n",
            "Epoch 8/100\n",
            "1250/1250 [==============================] - 13s 10ms/step - loss: 1.4914 - accuracy: 0.4647 - val_loss: 1.5553 - val_accuracy: 0.4498\n",
            "Epoch 9/100\n",
            "1250/1250 [==============================] - 12s 10ms/step - loss: 1.4836 - accuracy: 0.4699 - val_loss: 1.5357 - val_accuracy: 0.4552\n",
            "Epoch 10/100\n",
            "1250/1250 [==============================] - 13s 11ms/step - loss: 1.4631 - accuracy: 0.4785 - val_loss: 1.5536 - val_accuracy: 0.4578\n",
            "Epoch 11/100\n",
            "1250/1250 [==============================] - 12s 10ms/step - loss: 1.4547 - accuracy: 0.4784 - val_loss: 1.5976 - val_accuracy: 0.4486\n",
            "Epoch 12/100\n",
            "1250/1250 [==============================] - 12s 10ms/step - loss: 1.4397 - accuracy: 0.4855 - val_loss: 1.5230 - val_accuracy: 0.4663\n",
            "Epoch 13/100\n",
            "1250/1250 [==============================] - 13s 10ms/step - loss: 1.4329 - accuracy: 0.4867 - val_loss: 1.5455 - val_accuracy: 0.4619\n",
            "Epoch 14/100\n",
            "1250/1250 [==============================] - 13s 10ms/step - loss: 1.4266 - accuracy: 0.4896 - val_loss: 1.5378 - val_accuracy: 0.4605\n",
            "Epoch 15/100\n",
            "1250/1250 [==============================] - 13s 11ms/step - loss: 1.4144 - accuracy: 0.4931 - val_loss: 1.5378 - val_accuracy: 0.4629\n",
            "Epoch 16/100\n",
            "1250/1250 [==============================] - 13s 10ms/step - loss: 1.4064 - accuracy: 0.4960 - val_loss: 1.5176 - val_accuracy: 0.4693\n",
            "Epoch 17/100\n",
            "1250/1250 [==============================] - 12s 10ms/step - loss: 1.3986 - accuracy: 0.4987 - val_loss: 1.5194 - val_accuracy: 0.4678\n",
            "Epoch 18/100\n",
            "1250/1250 [==============================] - 12s 10ms/step - loss: 1.3889 - accuracy: 0.5042 - val_loss: 1.5500 - val_accuracy: 0.4575\n",
            "Epoch 19/100\n",
            "1250/1250 [==============================] - 12s 10ms/step - loss: 1.3859 - accuracy: 0.5057 - val_loss: 1.5328 - val_accuracy: 0.4700\n",
            "Epoch 20/100\n",
            "1250/1250 [==============================] - 13s 11ms/step - loss: 1.3857 - accuracy: 0.5036 - val_loss: 1.5214 - val_accuracy: 0.4707\n",
            "Epoch 21/100\n",
            "1250/1250 [==============================] - 13s 11ms/step - loss: 1.3740 - accuracy: 0.5077 - val_loss: 1.5379 - val_accuracy: 0.4664\n",
            "Epoch 22/100\n",
            "1250/1250 [==============================] - 13s 10ms/step - loss: 1.3697 - accuracy: 0.5092 - val_loss: 1.4996 - val_accuracy: 0.4723\n",
            "Epoch 23/100\n",
            "1250/1250 [==============================] - 12s 10ms/step - loss: 1.3670 - accuracy: 0.5090 - val_loss: 1.5531 - val_accuracy: 0.4589\n",
            "Epoch 24/100\n",
            "1250/1250 [==============================] - 12s 10ms/step - loss: 1.3569 - accuracy: 0.5147 - val_loss: 1.5517 - val_accuracy: 0.4551\n",
            "Epoch 25/100\n",
            "1250/1250 [==============================] - 12s 10ms/step - loss: 1.3559 - accuracy: 0.5138 - val_loss: 1.5312 - val_accuracy: 0.4699\n",
            "Epoch 26/100\n",
            "1250/1250 [==============================] - 13s 11ms/step - loss: 1.3478 - accuracy: 0.5169 - val_loss: 1.5059 - val_accuracy: 0.4757\n",
            "Epoch 27/100\n",
            "1250/1250 [==============================] - 12s 10ms/step - loss: 1.3423 - accuracy: 0.5180 - val_loss: 1.5442 - val_accuracy: 0.4622\n",
            "Epoch 28/100\n",
            "1250/1250 [==============================] - 12s 10ms/step - loss: 1.3417 - accuracy: 0.5177 - val_loss: 1.5277 - val_accuracy: 0.4714\n",
            "Epoch 29/100\n",
            "1250/1250 [==============================] - 13s 10ms/step - loss: 1.3364 - accuracy: 0.5212 - val_loss: 1.5166 - val_accuracy: 0.4739\n",
            "Epoch 30/100\n",
            "1250/1250 [==============================] - 13s 10ms/step - loss: 1.3276 - accuracy: 0.5239 - val_loss: 1.5143 - val_accuracy: 0.4686\n",
            "Epoch 31/100\n",
            "1250/1250 [==============================] - 13s 11ms/step - loss: 1.3252 - accuracy: 0.5239 - val_loss: 1.5171 - val_accuracy: 0.4752\n",
            "Epoch 32/100\n",
            "1250/1250 [==============================] - 12s 10ms/step - loss: 1.3240 - accuracy: 0.5228 - val_loss: 1.5750 - val_accuracy: 0.4566\n",
            "Epoch 33/100\n",
            "1250/1250 [==============================] - 13s 11ms/step - loss: 1.3179 - accuracy: 0.5283 - val_loss: 1.5234 - val_accuracy: 0.4759\n",
            "Epoch 34/100\n",
            "1250/1250 [==============================] - 13s 10ms/step - loss: 1.3178 - accuracy: 0.5277 - val_loss: 1.5595 - val_accuracy: 0.4564\n",
            "Epoch 35/100\n",
            "1250/1250 [==============================] - 13s 11ms/step - loss: 1.3127 - accuracy: 0.5299 - val_loss: 1.4966 - val_accuracy: 0.4849\n",
            "Epoch 36/100\n",
            "1250/1250 [==============================] - 13s 10ms/step - loss: 1.3117 - accuracy: 0.5278 - val_loss: 1.5173 - val_accuracy: 0.4735\n",
            "Epoch 37/100\n",
            "1250/1250 [==============================] - 13s 10ms/step - loss: 1.3063 - accuracy: 0.5305 - val_loss: 1.5363 - val_accuracy: 0.4699\n",
            "Epoch 38/100\n",
            "1250/1250 [==============================] - 13s 10ms/step - loss: 1.3021 - accuracy: 0.5305 - val_loss: 1.5235 - val_accuracy: 0.4741\n",
            "Epoch 39/100\n",
            "1250/1250 [==============================] - 13s 10ms/step - loss: 1.3057 - accuracy: 0.5318 - val_loss: 1.5402 - val_accuracy: 0.4670\n",
            "Epoch 40/100\n",
            "1250/1250 [==============================] - 12s 10ms/step - loss: 1.2978 - accuracy: 0.5321 - val_loss: 1.5453 - val_accuracy: 0.4690\n",
            "Epoch 41/100\n",
            "1250/1250 [==============================] - 12s 10ms/step - loss: 1.2951 - accuracy: 0.5343 - val_loss: 1.5488 - val_accuracy: 0.4669\n",
            "Epoch 42/100\n",
            "1250/1250 [==============================] - 12s 10ms/step - loss: 1.2952 - accuracy: 0.5357 - val_loss: 1.5067 - val_accuracy: 0.4846\n",
            "Epoch 43/100\n",
            "1250/1250 [==============================] - 12s 10ms/step - loss: 1.2938 - accuracy: 0.5357 - val_loss: 1.5721 - val_accuracy: 0.4541\n",
            "Epoch 44/100\n",
            "1250/1250 [==============================] - 12s 10ms/step - loss: 1.2873 - accuracy: 0.5354 - val_loss: 1.5222 - val_accuracy: 0.4772\n",
            "Epoch 45/100\n",
            "1250/1250 [==============================] - 12s 10ms/step - loss: 1.2853 - accuracy: 0.5373 - val_loss: 1.5255 - val_accuracy: 0.4801\n",
            "Epoch 46/100\n",
            "1250/1250 [==============================] - 12s 10ms/step - loss: 1.2796 - accuracy: 0.5440 - val_loss: 1.5373 - val_accuracy: 0.4693\n",
            "Epoch 47/100\n",
            "1250/1250 [==============================] - 14s 11ms/step - loss: 1.2791 - accuracy: 0.5389 - val_loss: 1.5363 - val_accuracy: 0.4729\n",
            "Epoch 48/100\n",
            "1250/1250 [==============================] - 14s 11ms/step - loss: 1.2800 - accuracy: 0.5385 - val_loss: 1.5324 - val_accuracy: 0.4715\n",
            "Epoch 49/100\n",
            "1250/1250 [==============================] - 12s 10ms/step - loss: 1.2735 - accuracy: 0.5437 - val_loss: 1.5348 - val_accuracy: 0.4726\n",
            "Epoch 50/100\n",
            "1250/1250 [==============================] - 13s 10ms/step - loss: 1.2755 - accuracy: 0.5424 - val_loss: 1.5406 - val_accuracy: 0.4740\n",
            "Epoch 51/100\n",
            "1250/1250 [==============================] - 12s 10ms/step - loss: 1.2670 - accuracy: 0.5430 - val_loss: 1.5200 - val_accuracy: 0.4775\n",
            "Epoch 52/100\n",
            "1250/1250 [==============================] - 13s 10ms/step - loss: 1.2675 - accuracy: 0.5436 - val_loss: 1.5798 - val_accuracy: 0.4609\n",
            "Epoch 53/100\n",
            "1250/1250 [==============================] - 13s 10ms/step - loss: 1.2670 - accuracy: 0.5445 - val_loss: 1.5239 - val_accuracy: 0.4788\n",
            "Epoch 54/100\n",
            "1250/1250 [==============================] - 13s 11ms/step - loss: 1.2593 - accuracy: 0.5451 - val_loss: 1.5334 - val_accuracy: 0.4788\n",
            "Epoch 55/100\n",
            "1250/1250 [==============================] - 12s 10ms/step - loss: 1.2612 - accuracy: 0.5451 - val_loss: 1.5999 - val_accuracy: 0.4592\n",
            "Epoch 56/100\n",
            "1250/1250 [==============================] - 13s 11ms/step - loss: 1.2621 - accuracy: 0.5462 - val_loss: 1.5748 - val_accuracy: 0.4709\n",
            "Epoch 57/100\n",
            "1250/1250 [==============================] - 12s 10ms/step - loss: 1.2506 - accuracy: 0.5505 - val_loss: 1.5314 - val_accuracy: 0.4816\n",
            "Epoch 58/100\n",
            "1250/1250 [==============================] - 12s 10ms/step - loss: 1.2528 - accuracy: 0.5495 - val_loss: 1.5701 - val_accuracy: 0.4684\n",
            "Epoch 59/100\n",
            "1250/1250 [==============================] - 12s 10ms/step - loss: 1.2490 - accuracy: 0.5502 - val_loss: 1.5463 - val_accuracy: 0.4742\n",
            "Epoch 60/100\n",
            "1250/1250 [==============================] - 12s 10ms/step - loss: 1.2483 - accuracy: 0.5501 - val_loss: 1.5530 - val_accuracy: 0.4743\n",
            "Epoch 61/100\n",
            "1250/1250 [==============================] - 12s 10ms/step - loss: 1.2482 - accuracy: 0.5505 - val_loss: 1.5538 - val_accuracy: 0.4765\n",
            "Epoch 62/100\n",
            "1250/1250 [==============================] - 12s 10ms/step - loss: 1.2427 - accuracy: 0.5504 - val_loss: 1.5872 - val_accuracy: 0.4597\n",
            "Epoch 63/100\n",
            "1250/1250 [==============================] - 13s 11ms/step - loss: 1.2418 - accuracy: 0.5502 - val_loss: 1.5872 - val_accuracy: 0.4673\n",
            "Epoch 64/100\n",
            "1250/1250 [==============================] - 13s 10ms/step - loss: 1.2416 - accuracy: 0.5521 - val_loss: 1.5687 - val_accuracy: 0.4746\n",
            "Epoch 65/100\n",
            "1250/1250 [==============================] - 12s 10ms/step - loss: 1.2422 - accuracy: 0.5519 - val_loss: 1.5723 - val_accuracy: 0.4781\n",
            "Epoch 66/100\n",
            "1250/1250 [==============================] - 13s 10ms/step - loss: 1.2375 - accuracy: 0.5526 - val_loss: 1.5443 - val_accuracy: 0.4762\n",
            "Epoch 67/100\n",
            "1250/1250 [==============================] - 12s 10ms/step - loss: 1.2361 - accuracy: 0.5529 - val_loss: 1.5483 - val_accuracy: 0.4721\n",
            "Epoch 68/100\n",
            "1250/1250 [==============================] - 14s 11ms/step - loss: 1.2323 - accuracy: 0.5551 - val_loss: 1.6246 - val_accuracy: 0.4587\n",
            "Epoch 69/100\n",
            "1250/1250 [==============================] - 13s 11ms/step - loss: 1.2335 - accuracy: 0.5559 - val_loss: 1.5673 - val_accuracy: 0.4700\n",
            "Epoch 70/100\n",
            "1250/1250 [==============================] - 13s 10ms/step - loss: 1.2282 - accuracy: 0.5559 - val_loss: 1.5835 - val_accuracy: 0.4673\n",
            "Epoch 71/100\n",
            "1250/1250 [==============================] - 13s 10ms/step - loss: 1.2327 - accuracy: 0.5558 - val_loss: 1.5368 - val_accuracy: 0.4780\n",
            "Epoch 72/100\n",
            "1250/1250 [==============================] - 12s 10ms/step - loss: 1.2308 - accuracy: 0.5563 - val_loss: 1.5510 - val_accuracy: 0.4770\n",
            "Epoch 73/100\n",
            "1250/1250 [==============================] - 12s 10ms/step - loss: 1.2271 - accuracy: 0.5581 - val_loss: 1.5575 - val_accuracy: 0.4803\n",
            "Epoch 74/100\n",
            "1250/1250 [==============================] - 13s 10ms/step - loss: 1.2224 - accuracy: 0.5602 - val_loss: 1.6136 - val_accuracy: 0.4746\n",
            "Epoch 75/100\n",
            "1250/1250 [==============================] - 12s 10ms/step - loss: 1.2221 - accuracy: 0.5604 - val_loss: 1.5561 - val_accuracy: 0.4823\n",
            "Epoch 76/100\n",
            "1250/1250 [==============================] - 13s 10ms/step - loss: 1.2148 - accuracy: 0.5612 - val_loss: 1.5629 - val_accuracy: 0.4768\n",
            "Epoch 77/100\n",
            "1250/1250 [==============================] - 12s 10ms/step - loss: 1.2211 - accuracy: 0.5589 - val_loss: 1.5817 - val_accuracy: 0.4656\n",
            "Epoch 78/100\n",
            "1250/1250 [==============================] - 13s 10ms/step - loss: 1.2234 - accuracy: 0.5605 - val_loss: 1.5534 - val_accuracy: 0.4759\n",
            "Epoch 79/100\n",
            "1250/1250 [==============================] - 13s 10ms/step - loss: 1.2166 - accuracy: 0.5630 - val_loss: 1.5657 - val_accuracy: 0.4790\n",
            "Epoch 80/100\n",
            "1250/1250 [==============================] - 12s 10ms/step - loss: 1.2132 - accuracy: 0.5617 - val_loss: 1.5969 - val_accuracy: 0.4693\n",
            "Epoch 81/100\n",
            "1250/1250 [==============================] - 14s 11ms/step - loss: 1.2122 - accuracy: 0.5614 - val_loss: 1.5864 - val_accuracy: 0.4656\n",
            "Epoch 82/100\n",
            "1250/1250 [==============================] - 12s 10ms/step - loss: 1.2106 - accuracy: 0.5624 - val_loss: 1.5880 - val_accuracy: 0.4773\n",
            "Epoch 83/100\n",
            "1250/1250 [==============================] - 13s 10ms/step - loss: 1.2081 - accuracy: 0.5633 - val_loss: 1.5689 - val_accuracy: 0.4771\n",
            "Epoch 84/100\n",
            "1250/1250 [==============================] - 12s 10ms/step - loss: 1.2129 - accuracy: 0.5644 - val_loss: 1.5828 - val_accuracy: 0.4770\n",
            "Epoch 85/100\n",
            "1250/1250 [==============================] - 12s 10ms/step - loss: 1.2066 - accuracy: 0.5649 - val_loss: 1.6047 - val_accuracy: 0.4648\n",
            "Epoch 86/100\n",
            "1250/1250 [==============================] - 12s 10ms/step - loss: 1.2084 - accuracy: 0.5632 - val_loss: 1.5925 - val_accuracy: 0.4705\n",
            "Epoch 87/100\n",
            "1250/1250 [==============================] - 13s 11ms/step - loss: 1.2002 - accuracy: 0.5679 - val_loss: 1.5797 - val_accuracy: 0.4700\n",
            "Epoch 88/100\n",
            "1250/1250 [==============================] - 13s 10ms/step - loss: 1.2048 - accuracy: 0.5670 - val_loss: 1.6322 - val_accuracy: 0.4578\n",
            "Epoch 89/100\n",
            "1250/1250 [==============================] - 13s 10ms/step - loss: 1.2034 - accuracy: 0.5655 - val_loss: 1.6499 - val_accuracy: 0.4618\n",
            "Epoch 90/100\n",
            "1250/1250 [==============================] - 13s 10ms/step - loss: 1.1978 - accuracy: 0.5682 - val_loss: 1.5825 - val_accuracy: 0.4708\n",
            "Epoch 91/100\n",
            "1250/1250 [==============================] - 13s 11ms/step - loss: 1.1989 - accuracy: 0.5680 - val_loss: 1.6052 - val_accuracy: 0.4684\n",
            "Epoch 92/100\n",
            "1250/1250 [==============================] - 13s 10ms/step - loss: 1.1991 - accuracy: 0.5679 - val_loss: 1.6282 - val_accuracy: 0.4671\n",
            "Epoch 93/100\n",
            "1250/1250 [==============================] - 14s 11ms/step - loss: 1.1941 - accuracy: 0.5675 - val_loss: 1.6204 - val_accuracy: 0.4665\n",
            "Epoch 94/100\n",
            "1250/1250 [==============================] - 13s 10ms/step - loss: 1.1964 - accuracy: 0.5674 - val_loss: 1.6112 - val_accuracy: 0.4750\n",
            "Epoch 95/100\n",
            "1250/1250 [==============================] - 14s 11ms/step - loss: 1.1887 - accuracy: 0.5701 - val_loss: 1.5715 - val_accuracy: 0.4684\n",
            "Epoch 96/100\n",
            "1250/1250 [==============================] - 13s 10ms/step - loss: 1.1930 - accuracy: 0.5681 - val_loss: 1.6151 - val_accuracy: 0.4674\n",
            "Epoch 97/100\n",
            "1250/1250 [==============================] - 13s 10ms/step - loss: 1.1952 - accuracy: 0.5684 - val_loss: 1.5906 - val_accuracy: 0.4701\n",
            "Epoch 98/100\n",
            "1250/1250 [==============================] - 13s 10ms/step - loss: 1.1926 - accuracy: 0.5706 - val_loss: 1.6052 - val_accuracy: 0.4605\n",
            "Epoch 99/100\n",
            "1250/1250 [==============================] - 13s 10ms/step - loss: 1.1909 - accuracy: 0.5684 - val_loss: 1.5816 - val_accuracy: 0.4730\n",
            "Epoch 100/100\n",
            "1250/1250 [==============================] - 13s 10ms/step - loss: 1.1844 - accuracy: 0.5714 - val_loss: 1.6120 - val_accuracy: 0.4687\n"
          ]
        }
      ]
    },
    {
      "cell_type": "code",
      "source": [
        "yprob=model.predict(X_test)\n",
        "yprob[0]\n"
      ],
      "metadata": {
        "colab": {
          "base_uri": "https://localhost:8080/"
        },
        "id": "bnRHd4tiSRFx",
        "outputId": "169ed142-ce49-4206-950c-4733193ea668"
      },
      "execution_count": 36,
      "outputs": [
        {
          "output_type": "stream",
          "name": "stdout",
          "text": [
            "313/313 [==============================] - 1s 3ms/step\n"
          ]
        },
        {
          "output_type": "execute_result",
          "data": {
            "text/plain": [
              "array([0.00384685, 0.013055  , 0.01432221, 0.27019286, 0.33060336,\n",
              "       0.21604818, 0.00770391, 0.00155614, 0.02657624, 0.11609524],\n",
              "      dtype=float32)"
            ]
          },
          "metadata": {},
          "execution_count": 36
        }
      ]
    },
    {
      "cell_type": "code",
      "source": [
        "ypred=yprob.argmax(axis=1)\n",
        "ypred"
      ],
      "metadata": {
        "colab": {
          "base_uri": "https://localhost:8080/"
        },
        "id": "tWRkKDAfais4",
        "outputId": "46b34657-6122-44b7-eca3-722bea33e7fc"
      },
      "execution_count": 37,
      "outputs": [
        {
          "output_type": "execute_result",
          "data": {
            "text/plain": [
              "array([4, 8, 8, ..., 3, 5, 7])"
            ]
          },
          "metadata": {},
          "execution_count": 37
        }
      ]
    },
    {
      "cell_type": "code",
      "source": [
        "from sklearn.metrics import classification_report\n",
        "print(classification_report(y_test,ypred))"
      ],
      "metadata": {
        "colab": {
          "base_uri": "https://localhost:8080/"
        },
        "id": "JDZJY2FValbf",
        "outputId": "cab577cc-7e68-4f46-8c8d-5298e345dda8"
      },
      "execution_count": 38,
      "outputs": [
        {
          "output_type": "stream",
          "name": "stdout",
          "text": [
            "              precision    recall  f1-score   support\n",
            "\n",
            "           0       0.44      0.64      0.52      1000\n",
            "           1       0.62      0.52      0.57      1000\n",
            "           2       0.34      0.39      0.37      1000\n",
            "           3       0.32      0.31      0.31      1000\n",
            "           4       0.41      0.41      0.41      1000\n",
            "           5       0.41      0.37      0.39      1000\n",
            "           6       0.54      0.45      0.49      1000\n",
            "           7       0.55      0.51      0.53      1000\n",
            "           8       0.67      0.53      0.59      1000\n",
            "           9       0.48      0.55      0.51      1000\n",
            "\n",
            "    accuracy                           0.47     10000\n",
            "   macro avg       0.48      0.47      0.47     10000\n",
            "weighted avg       0.48      0.47      0.47     10000\n",
            "\n"
          ]
        }
      ]
    },
    {
      "cell_type": "code",
      "source": [
        "plt.plot(history.history[\"loss\"])\n",
        "plt.plot(history.history[\"val_loss\"])"
      ],
      "metadata": {
        "colab": {
          "base_uri": "https://localhost:8080/",
          "height": 282
        },
        "id": "TPXMdR04aoQf",
        "outputId": "e7614345-cc8d-486c-ca35-e6c5ad3f859c"
      },
      "execution_count": 39,
      "outputs": [
        {
          "output_type": "execute_result",
          "data": {
            "text/plain": [
              "[<matplotlib.lines.Line2D at 0x7f298fa47850>]"
            ]
          },
          "metadata": {},
          "execution_count": 39
        },
        {
          "output_type": "display_data",
          "data": {
            "text/plain": [
              "<Figure size 432x288 with 1 Axes>"
            ],
            "image/png": "[encoded data removed]"
          },
          "metadata": {
            "needs_background": "light"
          }
        }
      ]
    },
    {
      "cell_type": "code",
      "source": [],
      "metadata": {
        "id": "_g-czPDBaqOA"
      },
      "execution_count": 39,
      "outputs": []
    }
  ]
}